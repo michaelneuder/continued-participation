{
 "cells": [
  {
   "cell_type": "code",
   "execution_count": 1,
   "metadata": {},
   "outputs": [],
   "source": [
    "import matplotlib.pyplot as plt\n",
    "import matplotlib as mpl\n",
    "import matplotlib.patches as mpatches\n",
    "import numpy as np\n",
    "import pandas as pd\n",
    "import cvxpy as cp\n",
    "from scipy.stats import poisson, uniform, expon, pareto, hypergeom\n",
    "from scipy.optimize import minimize, fsolve, least_squares\n",
    "import scipy as sc\n",
    "from tqdm import tqdm\n",
    "from mdptoolbox import mdp, util\n",
    "import itertools\n",
    "from scipy.sparse import csr_matrix, lil_matrix\n",
    "from matplotlib.patches import Patch\n",
    "import math\n",
    "import random\n",
    "import sympy as sp\n",
    "from sympy.printing.latex import print_latex"
   ]
  },
  {
   "cell_type": "code",
   "execution_count": 71,
   "metadata": {},
   "outputs": [],
   "source": [
    "def getCost(m_, n_, C_, k_, p_):\n",
    "    support = np.arange(max(0, k_+m_-n_), min(k_,m_))\n",
    "        \n",
    "    outcome = (1-p_)**support*C_ + (1-(1-p_)**support) * k_*p_ / (1-(1-p)**k)\n",
    "    prob_outcome = \n",
    "        \n",
    "    return support"
   ]
  },
  {
   "cell_type": "code",
   "execution_count": 72,
   "metadata": {},
   "outputs": [
    {
     "name": "stdout",
     "output_type": "stream",
     "text": [
      "[1.00000000e+00 9.00000000e-01 8.10000000e-01 7.29000000e-01\n",
      " 6.56100000e-01 5.90490000e-01 5.31441000e-01 4.78296900e-01\n",
      " 4.30467210e-01 3.87420489e-01 3.48678440e-01 3.13810596e-01\n",
      " 2.82429536e-01 2.54186583e-01 2.28767925e-01 2.05891132e-01\n",
      " 1.85302019e-01 1.66771817e-01 1.50094635e-01 1.35085172e-01\n",
      " 1.21576655e-01 1.09418989e-01 9.84770902e-02 8.86293812e-02\n",
      " 7.97664431e-02 7.17897988e-02 6.46108189e-02 5.81497370e-02\n",
      " 5.23347633e-02 4.71012870e-02 4.23911583e-02 3.81520424e-02\n",
      " 3.43368382e-02 3.09031544e-02 2.78128389e-02 2.50315550e-02\n",
      " 2.25283995e-02 2.02755596e-02 1.82480036e-02 1.64232033e-02\n",
      " 1.47808829e-02 1.33027946e-02 1.19725152e-02 1.07752637e-02\n",
      " 9.69773730e-03 8.72796357e-03 7.85516721e-03 7.06965049e-03\n",
      " 6.36268544e-03 5.72641690e-03 5.15377521e-03 4.63839769e-03\n",
      " 4.17455792e-03 3.75710213e-03 3.38139191e-03 3.04325272e-03\n",
      " 2.73892745e-03 2.46503470e-03 2.21853123e-03 1.99667811e-03\n",
      " 1.79701030e-03 1.61730927e-03 1.45557834e-03 1.31002051e-03\n",
      " 1.17901846e-03 1.06111661e-03 9.55004951e-04 8.59504456e-04\n",
      " 7.73554010e-04 6.96198609e-04 6.26578748e-04 5.63920873e-04\n",
      " 5.07528786e-04 4.56775907e-04 4.11098317e-04 3.69988485e-04\n",
      " 3.32989637e-04 2.99690673e-04 2.69721606e-04 2.42749445e-04\n",
      " 2.18474501e-04 1.96627050e-04 1.76964345e-04 1.59267911e-04\n",
      " 1.43341120e-04 1.29007008e-04 1.16106307e-04 1.04495676e-04\n",
      " 9.40461087e-05 8.46414978e-05 7.61773480e-05 6.85596132e-05\n",
      " 6.17036519e-05 5.55332867e-05 4.99799581e-05 4.49819622e-05\n",
      " 4.04837660e-05 3.64353894e-05 3.27918505e-05 2.95126654e-05]\n"
     ]
    },
    {
     "data": {
      "text/plain": [
       "array([ 0,  1,  2,  3,  4,  5,  6,  7,  8,  9, 10, 11, 12, 13, 14, 15, 16,\n",
       "       17, 18, 19, 20, 21, 22, 23, 24, 25, 26, 27, 28, 29, 30, 31, 32, 33,\n",
       "       34, 35, 36, 37, 38, 39, 40, 41, 42, 43, 44, 45, 46, 47, 48, 49, 50,\n",
       "       51, 52, 53, 54, 55, 56, 57, 58, 59, 60, 61, 62, 63, 64, 65, 66, 67,\n",
       "       68, 69, 70, 71, 72, 73, 74, 75, 76, 77, 78, 79, 80, 81, 82, 83, 84,\n",
       "       85, 86, 87, 88, 89, 90, 91, 92, 93, 94, 95, 96, 97, 98, 99])"
      ]
     },
     "execution_count": 72,
     "metadata": {},
     "output_type": "execute_result"
    }
   ],
   "source": [
    "getCost(m_=100, n_=1000, C_=100, k_=102, p_=0.1)"
   ]
  },
  {
   "cell_type": "code",
   "execution_count": 54,
   "metadata": {},
   "outputs": [],
   "source": [
    "m, n, C = 100, 10000, 1000    "
   ]
  },
  {
   "cell_type": "code",
   "execution_count": 55,
   "metadata": {},
   "outputs": [],
   "source": [
    "ks = np.arange(0,n+1)\n",
    "ps = np.arange(0,1,0.001)"
   ]
  },
  {
   "cell_type": "code",
   "execution_count": null,
   "metadata": {},
   "outputs": [],
   "source": []
  },
  {
   "cell_type": "code",
   "execution_count": null,
   "metadata": {},
   "outputs": [],
   "source": []
  },
  {
   "cell_type": "code",
   "execution_count": null,
   "metadata": {},
   "outputs": [],
   "source": []
  },
  {
   "cell_type": "code",
   "execution_count": null,
   "metadata": {},
   "outputs": [],
   "source": []
  },
  {
   "cell_type": "code",
   "execution_count": null,
   "metadata": {},
   "outputs": [],
   "source": []
  },
  {
   "cell_type": "code",
   "execution_count": null,
   "metadata": {},
   "outputs": [],
   "source": []
  },
  {
   "cell_type": "code",
   "execution_count": null,
   "metadata": {},
   "outputs": [],
   "source": []
  },
  {
   "cell_type": "code",
   "execution_count": null,
   "metadata": {},
   "outputs": [],
   "source": []
  },
  {
   "cell_type": "code",
   "execution_count": null,
   "metadata": {},
   "outputs": [],
   "source": []
  },
  {
   "cell_type": "code",
   "execution_count": null,
   "metadata": {},
   "outputs": [],
   "source": []
  },
  {
   "cell_type": "code",
   "execution_count": null,
   "metadata": {},
   "outputs": [],
   "source": []
  },
  {
   "cell_type": "code",
   "execution_count": null,
   "metadata": {},
   "outputs": [],
   "source": []
  },
  {
   "cell_type": "code",
   "execution_count": 12,
   "metadata": {},
   "outputs": [],
   "source": [
    "import numpy as np\n",
    "from scipy.optimize import minimize, Bounds, LinearConstraint, NonlinearConstraint\n",
    "\n",
    "def make_objective(m, n, C):\n",
    "    \"\"\"\n",
    "    Returns a callable f(x) that evaluates\n",
    "        max(  sum_{i=1}^m x_i + C * prod_{i=1}^m (1 - x_i),\n",
    "             sum_{i=1}^n x_i + C * prod_{i=1}^n (1 - x_i) ).\n",
    "    \"\"\"\n",
    "    def f(x):\n",
    "        x = np.asarray(x)\n",
    "        term_m = x[:m].sum() + C * np.prod(1 - x[:m])\n",
    "        term_n = x.sum()   + C * np.prod(1 - x)\n",
    "        return max(term_m, term_n)          # nondifferentiable at equality – SLSQP can still handle it\n",
    "    return f\n",
    "\n",
    "def minimize_problem(m, n, C, x0=None, randomized_restarts=10):\n",
    "    \"\"\"\n",
    "    Solves the minimization problem for the given parameters.\n",
    "    Uses SLSQP with several random restarts (because the problem is non-convex).\n",
    "\n",
    "    Parameters\n",
    "    ----------\n",
    "    m, n : int        with 1 ≤ m < n\n",
    "    C     : float     penalty parameter (typically “large”)\n",
    "    x0    : array-like or None  – initial guess (length n)\n",
    "    randomized_restarts : int   – number of extra random starts besides x0\n",
    "    \"\"\"\n",
    "    if not (1 <= m < n):\n",
    "        raise ValueError(\"Require 1 ≤ m < n.\")\n",
    "\n",
    "    obj = make_objective(m, n, C)\n",
    "\n",
    "    # bounds 0 ≤ x_i ≤ 1\n",
    "    bounds = Bounds(lb=np.zeros(n), ub=np.ones(n))\n",
    "\n",
    "    # ordering constraints:  x_i - x_{i+1} ≤ 0   for i = 0 … n-2\n",
    "    A = np.zeros((n - 1, n))\n",
    "    for i in range(n - 1):\n",
    "        A[i, i]     = 1   # x_i\n",
    "        A[i, i + 1] = -1  # -x_{i+1}\n",
    "    order_constraint = LinearConstraint(A, lb=-np.inf, ub=np.zeros(n - 1))\n",
    "\n",
    "    start = np.linspace(0.0, 1.0, n)\n",
    "    return minimize(\n",
    "            obj,\n",
    "            start,\n",
    "            method=\"SLSQP\",\n",
    "            bounds=bounds,\n",
    "            constraints=[order_constraint],\n",
    "            options={\"ftol\": 1e-12, \"maxiter\": 1000},\n",
    "        )"
   ]
  },
  {
   "cell_type": "code",
   "execution_count": 53,
   "metadata": {},
   "outputs": [
    {
     "data": {
      "image/png": "[encoded data removed]",
      "text/plain": [
       "<Figure size 648x432 with 1 Axes>"
      ]
     },
     "metadata": {
      "needs_background": "light"
     },
     "output_type": "display_data"
    },
    {
     "data": {
      "text/plain": [
       "(array([4.87417139e-18, 1.25894432e-17, 7.52687562e-18, 7.02128278e-18,\n",
       "        7.76602949e-18, 1.04751993e-17, 1.52563985e-17, 1.97750491e-17,\n",
       "        2.50425217e-17, 2.97528339e-17, 3.45652148e-17, 3.92814780e-17,\n",
       "        4.39969811e-17, 4.93621722e-17, 5.34309488e-17, 5.83780336e-17,\n",
       "        6.83174207e-17, 8.41648341e-17, 1.00025846e-16, 1.15993010e-16,\n",
       "        1.31557751e-16, 1.47546384e-16, 1.62045499e-16, 2.16337886e-16,\n",
       "        2.80759765e-16, 3.45879250e-16, 4.93647477e-16, 7.80977346e-16,\n",
       "        1.70113718e-15, 8.83247005e-15, 5.90712701e-02, 5.90712701e-02,\n",
       "        5.90712701e-02, 5.90712701e-02, 5.90712701e-02, 5.90712701e-02,\n",
       "        5.90712701e-02, 5.90712701e-02, 5.90712701e-02, 5.90712701e-02,\n",
       "        5.90712701e-02, 5.90712701e-02, 5.90712701e-02, 5.90712701e-02,\n",
       "        5.90712701e-02, 5.90712701e-02, 5.90712701e-02, 5.90712701e-02,\n",
       "        5.90712701e-02, 5.90712701e-02, 5.90712701e-02, 5.90712701e-02,\n",
       "        5.90712701e-02, 5.90712701e-02, 5.90712701e-02, 5.90712701e-02,\n",
       "        5.90712701e-02, 5.90712701e-02, 5.90712701e-02, 5.90712701e-02,\n",
       "        5.90712701e-02, 5.90712701e-02, 5.90712701e-02, 5.90712701e-02,\n",
       "        5.90712701e-02, 5.90712701e-02, 5.90712701e-02, 5.90712701e-02,\n",
       "        5.90712701e-02, 5.90712701e-02, 5.90712701e-02, 5.90712701e-02,\n",
       "        5.90712701e-02, 5.90712701e-02, 5.90712701e-02, 5.90712701e-02,\n",
       "        5.90712701e-02, 5.90712701e-02, 5.90712701e-02, 5.90712701e-02,\n",
       "        5.90712701e-02, 5.90712701e-02, 5.90712701e-02, 5.90712701e-02,\n",
       "        5.90712701e-02, 5.90712701e-02, 5.90712701e-02, 5.90712701e-02,\n",
       "        5.90712701e-02, 5.90712701e-02, 5.90712701e-02, 5.90712701e-02,\n",
       "        5.90712701e-02, 5.90712701e-02, 5.90712701e-02, 5.90712701e-02,\n",
       "        5.90712701e-02, 5.90712701e-02, 5.90712701e-02, 5.90712701e-02]),\n",
       " 8.83247005346339e-15)"
      ]
     },
     "execution_count": 53,
     "metadata": {},
     "output_type": "execute_result"
    }
   ],
   "source": [
    "m, n, C = 90, 100, 50\n",
    "result = minimize_problem(m, n, C)\n",
    "f,ax = plt.subplots(figsize=(9,6))\n",
    "ax.plot(result.x)\n",
    "ax.set_ylim(0,1)\n",
    "plt.show()\n",
    "result.x, result.x[29]"
   ]
  }
 ],
 "metadata": {
  "kernelspec": {
   "display_name": "Python 3",
   "language": "python",
   "name": "python3"
  },
  "language_info": {
   "codemirror_mode": {
    "name": "ipython",
    "version": 3
   },
   "file_extension": ".py",
   "mimetype": "text/x-python",
   "name": "python",
   "nbconvert_exporter": "python",
   "pygments_lexer": "ipython3",
   "version": "3.8.16"
  }
 },
 "nbformat": 4,
 "nbformat_minor": 4
}
