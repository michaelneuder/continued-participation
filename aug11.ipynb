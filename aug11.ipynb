{
 "cells": [
  {
   "cell_type": "code",
   "execution_count": 1,
   "metadata": {},
   "outputs": [],
   "source": [
    "import matplotlib.pyplot as plt\n",
    "import matplotlib as mpl\n",
    "import matplotlib.patches as mpatches\n",
    "import numpy as np\n",
    "import pandas as pd\n",
    "import cvxpy as cp\n",
    "from scipy.stats import poisson, uniform, expon, pareto, hypergeom\n",
    "from scipy.optimize import minimize, fsolve, least_squares\n",
    "import scipy as sc\n",
    "from tqdm import tqdm\n",
    "from mdptoolbox import mdp, util\n",
    "import itertools\n",
    "from scipy.sparse import csr_matrix, lil_matrix\n",
    "from matplotlib.patches import Patch\n",
    "import math\n",
    "import random\n",
    "import sympy as sp\n",
    "from sympy.printing.latex import print_latex"
   ]
  },
  {
   "cell_type": "code",
   "execution_count": 3,
   "metadata": {},
   "outputs": [
    {
     "data": {
      "text/plain": [
       "25.009999999999998"
      ]
     },
     "execution_count": 3,
     "metadata": {},
     "output_type": "execute_result"
    }
   ],
   "source": [
    "m = 1\n",
    "n = 50\n",
    "C = 50\n",
    "k = 41\n",
    "p = 0.61\n",
    "x = k*p / (1-(1-p)**k)\n",
    "x"
   ]
  },
  {
   "cell_type": "markdown",
   "metadata": {},
   "source": [
    "# lottery"
   ]
  },
  {
   "cell_type": "code",
   "execution_count": 6,
   "metadata": {},
   "outputs": [
    {
     "data": {
      "text/plain": [
       "37.500001999999995"
      ]
     },
     "execution_count": 6,
     "metadata": {},
     "output_type": "execute_result"
    }
   ],
   "source": [
    "prob_no_honest = 9/50\n",
    "prob_honest    = 41/50\n",
    "cost = prob_no_honest * C + prob_honest * p * x + prob_honest * (1-p) * C\n",
    "cost"
   ]
  },
  {
   "cell_type": "markdown",
   "metadata": {},
   "source": [
    "# pay all"
   ]
  },
  {
   "cell_type": "code",
   "execution_count": 10,
   "metadata": {},
   "outputs": [],
   "source": [
    "def p_k(m,n,k):\n",
    "    return math.comb(n-m,k)/math.comb(n,k)"
   ]
  },
  {
   "cell_type": "code",
   "execution_count": 11,
   "metadata": {},
   "outputs": [],
   "source": [
    "k_support = np.arange(0, 51)"
   ]
  },
  {
   "cell_type": "code",
   "execution_count": 12,
   "metadata": {},
   "outputs": [],
   "source": [
    "def cost(m,n,k,C):\n",
    "    honest = k\n",
    "    p_     = p_k(m,n,k)\n",
    "    attack = p_ * C + (1-p_) * k\n",
    "    return max(honest,attack)"
   ]
  },
  {
   "cell_type": "code",
   "execution_count": 14,
   "metadata": {},
   "outputs": [],
   "source": [
    "res = []\n",
    "for k in k_support:\n",
    "    cost_k = cost(m,n,k,C)\n",
    "    res.append((k, cost_k))"
   ]
  },
  {
   "cell_type": "code",
   "execution_count": 15,
   "metadata": {},
   "outputs": [
    {
     "data": {
      "text/plain": [
       "[(0, 50.0),\n",
       " (1, 49.02),\n",
       " (2, 48.08),\n",
       " (3, 47.18),\n",
       " (4, 46.32),\n",
       " (5, 45.5),\n",
       " (6, 44.72),\n",
       " (7, 43.98),\n",
       " (8, 43.28),\n",
       " (9, 42.62),\n",
       " (10, 42.0),\n",
       " (11, 41.42),\n",
       " (12, 40.88),\n",
       " (13, 40.38),\n",
       " (14, 39.92),\n",
       " (15, 39.5),\n",
       " (16, 39.12),\n",
       " (17, 38.78),\n",
       " (18, 38.48),\n",
       " (19, 38.22),\n",
       " (20, 38.0),\n",
       " (21, 37.81999999999999),\n",
       " (22, 37.68000000000001),\n",
       " (23, 37.58),\n",
       " (24, 37.519999999999996),\n",
       " (25, 37.5),\n",
       " (26, 37.519999999999996),\n",
       " (27, 37.58),\n",
       " (28, 37.68),\n",
       " (29, 37.82),\n",
       " (30, 38.0),\n",
       " (31, 38.22),\n",
       " (32, 38.480000000000004),\n",
       " (33, 38.78),\n",
       " (34, 39.12),\n",
       " (35, 39.5),\n",
       " (36, 39.92),\n",
       " (37, 40.379999999999995),\n",
       " (38, 40.879999999999995),\n",
       " (39, 41.42),\n",
       " (40, 42.0),\n",
       " (41, 42.620000000000005),\n",
       " (42, 43.28),\n",
       " (43, 43.98),\n",
       " (44, 44.72),\n",
       " (45, 45.5),\n",
       " (46, 46.32),\n",
       " (47, 47.18),\n",
       " (48, 48.08),\n",
       " (49, 49.019999999999996),\n",
       " (50, 50)]"
      ]
     },
     "execution_count": 15,
     "metadata": {},
     "output_type": "execute_result"
    }
   ],
   "source": [
    "min"
   ]
  }
 ],
 "metadata": {
  "kernelspec": {
   "display_name": "Python 3",
   "language": "python",
   "name": "python3"
  },
  "language_info": {
   "codemirror_mode": {
    "name": "ipython",
    "version": 3
   },
   "file_extension": ".py",
   "mimetype": "text/x-python",
   "name": "python",
   "nbconvert_exporter": "python",
   "pygments_lexer": "ipython3",
   "version": "3.8.16"
  }
 },
 "nbformat": 4,
 "nbformat_minor": 4
}
